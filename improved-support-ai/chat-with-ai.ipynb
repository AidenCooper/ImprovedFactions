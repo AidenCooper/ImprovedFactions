{
 "cells": [
  {
   "cell_type": "code",
   "id": "initial_id",
   "metadata": {
    "collapsed": true,
    "ExecuteTime": {
     "end_time": "2024-05-17T15:54:49.724164Z",
     "start_time": "2024-05-17T15:54:49.720939Z"
    }
   },
   "source": [
    "from llama_index.core import SimpleDirectoryReader, VectorStoreIndex, Settings, StorageContext, load_index_from_storage, PromptTemplate\n",
    "from llama_index.core.memory import ChatMemoryBuffer\n",
    "from llama_index.embeddings.huggingface import HuggingFaceEmbedding\n",
    "from llama_index.llms.openai_like import OpenAILike"
   ],
   "outputs": [],
   "execution_count": 48
  },
  {
   "metadata": {
    "ExecuteTime": {
     "end_time": "2024-05-17T15:22:12.342337Z",
     "start_time": "2024-05-17T15:22:12.338739Z"
    }
   },
   "cell_type": "code",
   "source": "Settings.llm = OpenAILike(model=\"TheBloke/WizardLM-1.0-Uncensored-Llama2-13B-GGUF\", api_base=\"http://localhost:1234/v1\", api_key=\"lm-studio\")",
   "id": "fdbed0f7c9a6c069",
   "outputs": [],
   "execution_count": 14
  },
  {
   "metadata": {
    "ExecuteTime": {
     "end_time": "2024-05-17T15:07:10.404120Z",
     "start_time": "2024-05-17T15:07:03.346523Z"
    }
   },
   "cell_type": "code",
   "source": [
    "reader = SimpleDirectoryReader(input_dir=\"output\")\n",
    "documents = reader.load_data(num_workers=4)"
   ],
   "id": "bfc67a10e5a6dc31",
   "outputs": [],
   "execution_count": 4
  },
  {
   "metadata": {
    "ExecuteTime": {
     "end_time": "2024-05-17T15:14:45.793589Z",
     "start_time": "2024-05-17T15:14:14.777571Z"
    }
   },
   "cell_type": "code",
   "source": "Settings.embed_model = HuggingFaceEmbedding(model_name=\"BAAI/bge-small-en\",cache_folder='./')",
   "id": "fe9dcc67914d1968",
   "outputs": [
    {
     "data": {
      "text/plain": [
       "modules.json:   0%|          | 0.00/349 [00:00<?, ?B/s]"
      ],
      "application/vnd.jupyter.widget-view+json": {
       "version_major": 2,
       "version_minor": 0,
       "model_id": "41994d8c88a24b3e8994992766fe2f19"
      }
     },
     "metadata": {},
     "output_type": "display_data"
    },
    {
     "data": {
      "text/plain": [
       "config_sentence_transformers.json:   0%|          | 0.00/124 [00:00<?, ?B/s]"
      ],
      "application/vnd.jupyter.widget-view+json": {
       "version_major": 2,
       "version_minor": 0,
       "model_id": "d7ae79a141c34ee2ac442284b8cb7d9f"
      }
     },
     "metadata": {},
     "output_type": "display_data"
    },
    {
     "data": {
      "text/plain": [
       "README.md:   0%|          | 0.00/90.8k [00:00<?, ?B/s]"
      ],
      "application/vnd.jupyter.widget-view+json": {
       "version_major": 2,
       "version_minor": 0,
       "model_id": "b8d3713308cd4d55998a11e5b242c55f"
      }
     },
     "metadata": {},
     "output_type": "display_data"
    },
    {
     "data": {
      "text/plain": [
       "sentence_bert_config.json:   0%|          | 0.00/52.0 [00:00<?, ?B/s]"
      ],
      "application/vnd.jupyter.widget-view+json": {
       "version_major": 2,
       "version_minor": 0,
       "model_id": "3964ab2f17314f06be833e0ec0ae5d47"
      }
     },
     "metadata": {},
     "output_type": "display_data"
    },
    {
     "data": {
      "text/plain": [
       "config.json:   0%|          | 0.00/684 [00:00<?, ?B/s]"
      ],
      "application/vnd.jupyter.widget-view+json": {
       "version_major": 2,
       "version_minor": 0,
       "model_id": "fd5fef97d7104db89a200a5b24d17e54"
      }
     },
     "metadata": {},
     "output_type": "display_data"
    },
    {
     "data": {
      "text/plain": [
       "model.safetensors:   0%|          | 0.00/133M [00:00<?, ?B/s]"
      ],
      "application/vnd.jupyter.widget-view+json": {
       "version_major": 2,
       "version_minor": 0,
       "model_id": "a0008c4bba804a73b8e2a40bbc14fab2"
      }
     },
     "metadata": {},
     "output_type": "display_data"
    },
    {
     "data": {
      "text/plain": [
       "tokenizer_config.json:   0%|          | 0.00/366 [00:00<?, ?B/s]"
      ],
      "application/vnd.jupyter.widget-view+json": {
       "version_major": 2,
       "version_minor": 0,
       "model_id": "42415b475fd041cdb1f5af173d8f4de1"
      }
     },
     "metadata": {},
     "output_type": "display_data"
    },
    {
     "data": {
      "text/plain": [
       "vocab.txt:   0%|          | 0.00/232k [00:00<?, ?B/s]"
      ],
      "application/vnd.jupyter.widget-view+json": {
       "version_major": 2,
       "version_minor": 0,
       "model_id": "047fb6a028d64b7b83de6f56e262c3a1"
      }
     },
     "metadata": {},
     "output_type": "display_data"
    },
    {
     "data": {
      "text/plain": [
       "tokenizer.json:   0%|          | 0.00/711k [00:00<?, ?B/s]"
      ],
      "application/vnd.jupyter.widget-view+json": {
       "version_major": 2,
       "version_minor": 0,
       "model_id": "14a7626d5f854ec18f0e9d5c039ff48a"
      }
     },
     "metadata": {},
     "output_type": "display_data"
    },
    {
     "data": {
      "text/plain": [
       "special_tokens_map.json:   0%|          | 0.00/125 [00:00<?, ?B/s]"
      ],
      "application/vnd.jupyter.widget-view+json": {
       "version_major": 2,
       "version_minor": 0,
       "model_id": "cd6351a552474db6b0d8df8d682baebf"
      }
     },
     "metadata": {},
     "output_type": "display_data"
    },
    {
     "data": {
      "text/plain": [
       "1_Pooling/config.json:   0%|          | 0.00/190 [00:00<?, ?B/s]"
      ],
      "application/vnd.jupyter.widget-view+json": {
       "version_major": 2,
       "version_minor": 0,
       "model_id": "13b778cb91844fb8a9809c7a59b24ae2"
      }
     },
     "metadata": {},
     "output_type": "display_data"
    }
   ],
   "execution_count": 10
  },
  {
   "metadata": {
    "ExecuteTime": {
     "end_time": "2024-05-17T15:19:53.013095Z",
     "start_time": "2024-05-17T15:14:49.094101Z"
    }
   },
   "cell_type": "code",
   "source": "index = VectorStoreIndex.from_documents(documents)",
   "id": "63a0fc32a8874868",
   "outputs": [],
   "execution_count": 11
  },
  {
   "metadata": {
    "ExecuteTime": {
     "end_time": "2024-05-17T15:21:32.917640Z",
     "start_time": "2024-05-17T15:21:23.534666Z"
    }
   },
   "cell_type": "code",
   "source": [
    "index.set_index_id(\"vector_index\")\n",
    "index.storage_context.persist(\"./storage\")"
   ],
   "id": "a7305e7529709b67",
   "outputs": [],
   "execution_count": 12
  },
  {
   "metadata": {},
   "cell_type": "code",
   "outputs": [],
   "execution_count": null,
   "source": [
    "storage_context = StorageContext.from_defaults(persist_dir=\"storage\")\n",
    "index = load_index_from_storage(storage_context, index_id=\"vector_index\")"
   ],
   "id": "42209d471a6dfee0"
  },
  {
   "metadata": {
    "ExecuteTime": {
     "end_time": "2024-05-17T16:11:38.568808Z",
     "start_time": "2024-05-17T16:11:38.565289Z"
    }
   },
   "cell_type": "code",
   "source": [
    "memory = ChatMemoryBuffer.from_defaults()\n",
    "\n",
    "chat_engine = index.as_chat_engine(\n",
    "    chat_mode=\"context\",\n",
    "    memory=memory,\n",
    "    system_prompt=(\n",
    "        \"You are part of the ImprovedFactions minecraft plugin support team.\\n\"\n",
    "        \"You are a very professional ImprovedFactions support working for the dev, Tobero.\\n\"\n",
    "        \"You are always kind and give your best to answer the question of people.\\n\"\n",
    "        \"Whenever you feel unable to answer a question, ask for more details. If you think you can't aswer it because you miss some knowledge the dev might have, tell the customer to wait for the developer\"\n",
    "    ),\n",
    "    context_prompt=(\n",
    "        \"ou are part of the ImprovedFactions minecraft plugin support team.\\n\"\n",
    "        \"Here are some previous conversations between a support member and a different customer. This conversation isn't part of the current one, only a reference:\\n\"\n",
    "        \"{context_str}\"\n",
    "        \"\\nInstruction: Use the previous chat history, and the previous conversations with different customers, to interact and help the current customer.\"\n",
    "        \"Whenever you feel unable to answer a question, ask for more details. If you think you can't aswer it because you miss some knowledge the dev might have, tell the customer to wait for the developer\"\n",
    "    )\n",
    ")"
   ],
   "id": "107e864b4b589100",
   "outputs": [],
   "execution_count": 64
  },
  {
   "metadata": {
    "ExecuteTime": {
     "end_time": "2024-05-17T16:12:19.061513Z",
     "start_time": "2024-05-17T16:11:40.274038Z"
    }
   },
   "cell_type": "code",
   "source": [
    "response = chat_engine.chat(\"The plugin isn't starting.\")\n",
    "print(response)"
   ],
   "id": "d959d8437b2642f4",
   "outputs": [
    {
     "name": "stdout",
     "output_type": "stream",
     "text": [
      "I apologize for the confusion. Can you please provide me with the following information:\n",
      "\n",
      "* Your server version and the version of the plugin you are trying to use.\n",
      "* The exact error message you are receiving when attempting to start the plugin.\n",
      "* A list of any other plugins currently installed on your server.\n"
     ]
    }
   ],
   "execution_count": 65
  },
  {
   "metadata": {
    "ExecuteTime": {
     "end_time": "2024-05-17T16:15:14.315634Z",
     "start_time": "2024-05-17T16:12:34.212472Z"
    }
   },
   "cell_type": "code",
   "source": [
    "print(chat_engine.chat(\"\"\"I'm running 1.20.6, plugin version 2.1.2-snapshot.\n",
    "Error: [12:40:51] [Server thread/ERROR]: [ModernPluginLoadingStrategy] Could not load 'plugins/ImprovedFactionsBase-2.1.1-stable.jar' in 'plugins'\n",
    "org.bukkit.plugin.UnknownDependencyException: Unknown/missing dependency plugins: [GuiEngine]. Please download and install these plugins to run 'ImprovedFactions'.\n",
    "\n",
    "I only have ImprovedFactions installed\n",
    "\"\"\"))"
   ],
   "id": "9f4fc42135b41522",
   "outputs": [
    {
     "name": "stdout",
     "output_type": "stream",
     "text": [
      "It seems that the plugin is not compatible with Minecraft version 1.20.6. The latest version of the plugin may work with this version, you can try updating the plugin to the latest version and see if it resolves the issue. Additionally, make sure that you have all the required dependencies installed for the plugin to work properly.\n"
     ]
    }
   ],
   "execution_count": 66
  },
  {
   "metadata": {
    "ExecuteTime": {
     "end_time": "2024-05-17T16:15:49.515356Z",
     "start_time": "2024-05-17T16:15:49.512483Z"
    }
   },
   "cell_type": "code",
   "source": "chat_engine.reset()",
   "id": "18b1cc0ac5cf9fbb",
   "outputs": [],
   "execution_count": 69
  },
  {
   "metadata": {
    "ExecuteTime": {
     "end_time": "2024-05-17T16:41:40.635385Z",
     "start_time": "2024-05-17T16:39:22.451130Z"
    }
   },
   "cell_type": "code",
   "source": "print(chat_engine.chat(\"\"\"I'm new to factions as a player playing on a server. What is ti about and how I can use it, eg create factions.\"\"\"))",
   "id": "854d261eb5b60e14",
   "outputs": [
    {
     "name": "stdout",
     "output_type": "stream",
     "text": [
      "Factions is a Minecraft plugin that allows players to join and create their own factions or groups within the game. Factions can claim land and resources, build\n"
     ]
    }
   ],
   "execution_count": 72
  }
 ],
 "metadata": {
  "kernelspec": {
   "display_name": "Python 3",
   "language": "python",
   "name": "python3"
  },
  "language_info": {
   "codemirror_mode": {
    "name": "ipython",
    "version": 2
   },
   "file_extension": ".py",
   "mimetype": "text/x-python",
   "name": "python",
   "nbconvert_exporter": "python",
   "pygments_lexer": "ipython2",
   "version": "2.7.6"
  }
 },
 "nbformat": 4,
 "nbformat_minor": 5
}
